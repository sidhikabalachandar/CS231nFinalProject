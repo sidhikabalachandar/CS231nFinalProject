{
 "cells": [
  {
   "cell_type": "code",
   "execution_count": 1,
   "metadata": {},
   "outputs": [],
   "source": [
    "import torch\n",
    "import numpy as np\n",
    "import open3d as o3d"
   ]
  },
  {
   "cell_type": "code",
   "execution_count": null,
   "metadata": {},
   "outputs": [],
   "source": [
    "path_to_car = \"data/shape_net_core_uniform_samples_2048/02958343/627c561f2a45ac907c4509228487875f.ply\"\n",
    "\n",
    "\n",
    "device = torch.device(\"cuda\" if torch.cuda.is_available() else \"cpu\")\n",
    "\n",
    "\n",
    "device\n",
    "\n",
    "input_tensor = input_tensor.to(device).float()\n",
    "\n",
    "list(model.children())[0](input_tensor)\n",
    "\n",
    "\n",
    "path_to_car = \"data/shape_net_core_uniform_samples_2048/02958343/627c561f2a45ac907c4509228487875f.ply\"\n",
    "point_cloud = o3d.io.read_point_cloud(path_to_car)\n",
    "point_cloud_in_numpy = np.asarray(point_cloud.points)\n",
    "point_cloud_in_numpy = point_cloud_in_numpy.reshape(-1)\n",
    "\n",
    "input_tensor = torch.from_numpy(point_cloud_in_numpy)"
   ]
  }
 ],
 "metadata": {
  "kernelspec": {
   "display_name": "Python 3",
   "language": "python",
   "name": "python3"
  },
  "language_info": {
   "codemirror_mode": {
    "name": "ipython",
    "version": 3
   },
   "file_extension": ".py",
   "mimetype": "text/x-python",
   "name": "python",
   "nbconvert_exporter": "python",
   "pygments_lexer": "ipython3",
   "version": "3.8.5"
  }
 },
 "nbformat": 4,
 "nbformat_minor": 4
}
